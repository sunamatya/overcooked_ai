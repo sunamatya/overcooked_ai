{
 "cells": [
  {
   "cell_type": "code",
   "execution_count": 11,
   "id": "0ce4b719",
   "metadata": {},
   "outputs": [],
   "source": [
    "import numpy as np\n",
    "from overcooked_ai_py.mdp.actions import Action, Direction\n",
    "from overcooked_ai_py.agents.agent import Agent, AgentPair, StayAgent, RandomAgent\n",
    "from overcooked_ai_py.agents.benchmarking import AgentEvaluator, LayoutGenerator"
   ]
  },
  {
   "cell_type": "markdown",
   "id": "2b603323",
   "metadata": {},
   "source": [
    "Agent evaluator using the benchmarking"
   ]
  },
  {
   "cell_type": "code",
   "execution_count": 3,
   "id": "9b53f220",
   "metadata": {},
   "outputs": [],
   "source": [
    "mdp_gen_params = {\"layout_name\": 'cramped_room'}\n",
    "mdp_fn = LayoutGenerator.mdp_gen_fn_from_dict(mdp_gen_params)\n",
    "env_params = {\"horizon\": 1000}\n",
    "agent_eval = AgentEvaluator(env_params=env_params, mdp_fn=mdp_fn)"
   ]
  },
  {
   "cell_type": "code",
   "execution_count": 4,
   "id": "a6b0d405",
   "metadata": {},
   "outputs": [
    {
     "name": "stderr",
     "output_type": "stream",
     "text": [
      "Avg rew: 0.00 (std: 0.00, se: 0.00); avg len: 1000.00; : 100%|█| 5/5 [00:04<00:00, "
     ]
    },
    {
     "name": "stdout",
     "output_type": "stream",
     "text": [
      "Random pair rewards [0 0 0 0 0]\n"
     ]
    },
    {
     "name": "stderr",
     "output_type": "stream",
     "text": [
      "\n"
     ]
    }
   ],
   "source": [
    "trajectory_random_pair= agent_eval.evaluate_random_pair(num_games=5)\n",
    "print(\"Random pair rewards\", trajectory_random_pair[\"ep_returns\"])"
   ]
  },
  {
   "cell_type": "markdown",
   "id": "0fe35246",
   "metadata": {},
   "source": [
    "Generating own layout instead of one in the /data/layouts/*.layout format"
   ]
  },
  {
   "cell_type": "code",
   "execution_count": 5,
   "id": "a9d18eca",
   "metadata": {},
   "outputs": [
    {
     "name": "stdout",
     "output_type": "stream",
     "text": [
      "Generated layout\n",
      "X X D O X X X \n",
      "X P     D X X \n",
      "X X O   P X X \n",
      "X X S     O X \n",
      "X X     S X X \n",
      "X X X D X X X \n",
      "X X X X X X X \n",
      "\n",
      "Generated layout\n",
      "X X X P X X X \n",
      "X D     S S X \n",
      "P   O       S \n",
      "S   D   X   P \n",
      "D       O D X \n",
      "O   D O X X X \n",
      "X X X X X X X \n",
      "\n",
      "Generated layout\n",
      "X X P X S O X \n",
      "X P         O \n",
      "O           D \n",
      "D           O \n",
      "X     P     P \n",
      "O   D X D   S \n",
      "X P X X X X X \n",
      "\n"
     ]
    },
    {
     "name": "stderr",
     "output_type": "stream",
     "text": [
      "\r",
      "  0%|                                                    | 0/10 [00:00<?, ?it/s]"
     ]
    },
    {
     "name": "stdout",
     "output_type": "stream",
     "text": [
      "Computing MotionPlanner to be saved in /home/riselab/PycharmProjects/overcooked_ai/src/overcooked_ai_py/data/planners/XXPXSOX|XP    O|O     D|D1    O|X  P  P|O DXD2S|XPXXXXX_mp.pkl\n",
      "It took 3.182252883911133 seconds to create mp\n"
     ]
    },
    {
     "name": "stderr",
     "output_type": "stream",
     "text": [
      "Avg rew: 6.00 (std: 9.17, se: 2.90); avg len: 500.00; : 100%|█| 10/10 [00:08<00:"
     ]
    },
    {
     "name": "stdout",
     "output_type": "stream",
     "text": [
      "Random pair rewards [20  0  0  0 20 20  0  0  0  0]\n",
      "\n",
      " Generated grid: \n",
      "XXPXSOX\n",
      "XP    O\n",
      "O     D\n",
      "D     O\n",
      "X  P  P\n",
      "O DXD S\n",
      "XPXXXXX\n"
     ]
    },
    {
     "name": "stderr",
     "output_type": "stream",
     "text": [
      "\n"
     ]
    }
   ],
   "source": [
    "mdp_gen_params = {\"inner_shape\": (7,7),\n",
    "                 \"prop_empty\": 0.2, #proportion of empty space\n",
    "                 \"prop_feats\": 0.8, #proportion of occupied space or counters with features in them\n",
    "                 \"display\": True,\n",
    "                 \"start_all_orders\":\n",
    "                 [{\"ingredients\":[\"onion\", \"onion\", \"onion\"]},\n",
    "                 {\"ingredients\":[\"onion\", \"onion\"]},\n",
    "                 {\"ingredients\":[\"onion\"]}],\n",
    "                 \"recipie_values\": [20, 9, 4],\n",
    "                 \"recipie_times\":[20,15,10]\n",
    "                 }\n",
    "\n",
    "env_params= {\"horizon\": 500}\n",
    "\n",
    "#need to check why the outer_shape is not in the original mpd_gen_params \n",
    "mdp_fn = LayoutGenerator.mdp_gen_fn_from_dict(mdp_gen_params, outer_shape= (7,7))\n",
    "agent_eval = AgentEvaluator(env_params=env_params, mdp_fn=mdp_fn)\n",
    "\n",
    "trajectory_random_pair= agent_eval.evaluate_random_pair(num_games=10)\n",
    "print(\"Random pair rewards\", trajectory_random_pair[\"ep_returns\"])\n",
    "\n",
    "def pretty_grid(grid):\n",
    "    return \"\\n\".join(\"\".join(line) for line in grid)\n",
    "\n",
    "print(\"\\n Generated grid: \\n\" + pretty_grid(trajectory_random_pair[\"mdp_params\"][0][\"terrain\"]))\n"
   ]
  },
  {
   "cell_type": "markdown",
   "id": "9bf2cd9e",
   "metadata": {},
   "source": [
    "Custom agent development"
   ]
  },
  {
   "cell_type": "code",
   "execution_count": 8,
   "id": "52ef0d08",
   "metadata": {},
   "outputs": [
    {
     "name": "stderr",
     "output_type": "stream",
     "text": [
      "Avg rew: 0.00 (std: 0.00, se: 0.00); avg len: 1000.00; : 100%|█| 10/10 [00:08<00"
     ]
    },
    {
     "name": "stdout",
     "output_type": "stream",
     "text": [
      "Custom random pair rewards [0 0 0 0 0 0 0 0 0 0]\n"
     ]
    },
    {
     "name": "stderr",
     "output_type": "stream",
     "text": [
      "\n"
     ]
    }
   ],
   "source": [
    "class CustomRandomAgent(Agent):\n",
    "    \"\"\"An agent randomly picks motion actions.\n",
    "    Note: Does not perform interat actions, unless specified\"\"\"\n",
    "    \n",
    "    def action(self, state):\n",
    "        action_probs= np.zeros(Action.NUM_ACTIONS)\n",
    "        legal_actions = Action.ALL_ACTIONS\n",
    "        legal_actions_indices = np.array([Action.ACTION_TO_INDEX[motion_a] for motion_a in legal_actions])\n",
    "        action_probs[legal_actions_indices] = 1/len(legal_actions)\n",
    "        return Action.sample(action_probs), {\"action_probs\": action_probs}\n",
    "    \n",
    "    def actions(self, states, agent_indices):\n",
    "        return(self.action(state) for state in states)\n",
    "\n",
    "    \n",
    "agent_pair = AgentPair(CustomRandomAgent(), CustomRandomAgent())\n",
    "mdp_gen_params = {\"layout_name\": 'cramped_room'}\n",
    "mdp_fn = LayoutGenerator.mdp_gen_fn_from_dict(mdp_gen_params)\n",
    "env_params = {\"horizon\": 1000}\n",
    "agent_eval = AgentEvaluator(env_params=env_params, mdp_fn=mdp_fn)\n",
    "\n",
    "#check the choice of the agent pair\n",
    "trajectory_custom_random_pair= agent_eval.evaluate_agent_pair(agent_pair, num_games=10)\n",
    "print(\"Custom random pair rewards\", trajectory_custom_random_pair[\"ep_returns\"])      \n",
    "        "
   ]
  },
  {
   "cell_type": "markdown",
   "id": "5c839084",
   "metadata": {},
   "source": [
    "Single player variant"
   ]
  },
  {
   "cell_type": "markdown",
   "id": "89cd5730",
   "metadata": {},
   "source": []
  },
  {
   "cell_type": "code",
   "execution_count": 12,
   "id": "03d0b4ef",
   "metadata": {
    "scrolled": true
   },
   "outputs": [
    {
     "name": "stderr",
     "output_type": "stream",
     "text": [
      "\r",
      "  0%|                                                    | 0/10 [00:00<?, ?it/s]"
     ]
    },
    {
     "name": "stdout",
     "output_type": "stream",
     "text": [
      "Computing MotionPlanner to be saved in /home/riselab/PycharmProjects/overcooked_ai/src/overcooked_ai_py/data/planners/five_by_five_mp.pkl\n",
      "It took 0.2961246967315674 seconds to create mp\n"
     ]
    },
    {
     "name": "stderr",
     "output_type": "stream",
     "text": [
      "Avg rew: 0.00 (std: 0.00, se: 0.00); avg len: 1000.00; : 100%|█| 10/10 [00:06<00"
     ]
    },
    {
     "name": "stdout",
     "output_type": "stream",
     "text": [
      "Single agent reward [0 0 0 0 0 0 0 0 0 0]\n"
     ]
    },
    {
     "name": "stderr",
     "output_type": "stream",
     "text": [
      "\n"
     ]
    }
   ],
   "source": [
    "agent_pair=AgentPair(RandomAgent(all_actions=True), StayAgent())\n",
    "mdp_gen_params_single = {\"layout_name\":'five_by_five'}\n",
    "mdp_fn_single= LayoutGenerator.mdp_gen_fn_from_dict(mdp_gen_params_single)\n",
    "agent_eval_single= AgentEvaluator(env_params= env_params, mdp_fn=mdp_fn_single)\n",
    "\n",
    "trajectory_single_check = agent_eval_single.evaluate_agent_pair(agent_pair, num_games= 10)\n",
    "print(\"Single agent reward\", trajectory_single_check[\"ep_returns\"]) \n"
   ]
  },
  {
   "cell_type": "code",
   "execution_count": 17,
   "id": "8b14f66a",
   "metadata": {},
   "outputs": [
    {
     "name": "stderr",
     "output_type": "stream",
     "text": [
      "Avg rew: 40.00 (std: 0.00, se: 0.00); avg len: 100.00; : 100%|█| 1/1 [00:00<00:0\n"
     ]
    },
    {
     "data": {
      "text/plain": [
       "X       X       P       X       X       \n",
       "\n",
       "O                       ↑1      O       \n",
       "\n",
       "X       ↑0                      X       \n",
       "\n",
       "X       D       X       S       X       \n"
      ]
     },
     "execution_count": 17,
     "metadata": {},
     "output_type": "execute_result"
    }
   ],
   "source": [
    "from overcooked_ai_py.agents.benchmarking import AgentEvaluator\n",
    "from overcooked_ai_py.agents.agent import AgentPair, FixedPlanAgent, GreedyHumanModel, RandomAgent, SampleAgent\n",
    "from overcooked_ai_py.visualization.state_visualizer import StateVisualizer\n",
    "ae = AgentEvaluator.from_layout_name({\"layout_name\": \"cramped_room\"}, {\"horizon\": 100})\n",
    "trajs= ae.evaluate_human_model_pair()\n",
    "ae.env"
   ]
  },
  {
   "cell_type": "code",
   "execution_count": 18,
   "id": "40abf147",
   "metadata": {},
   "outputs": [
    {
     "data": {
      "image/png": "[encoded data removed]",
      "text/plain": [
       "<IPython.core.display.Image object>"
      ]
     },
     "metadata": {},
     "output_type": "display_data"
    },
    {
     "data": {
      "application/vnd.jupyter.widget-view+json": {
       "model_id": "46856fa98e284fd6a8d603fc3c39a411",
       "version_major": 2,
       "version_minor": 0
      },
      "text/plain": [
       "interactive(children=(IntSlider(value=0, description='timestep', max=99), Output()), _dom_classes=('widget-int…"
      ]
     },
     "metadata": {},
     "output_type": "display_data"
    }
   ],
   "source": [
    "action_probs = [[RandomAgent(all_actions= True).action(state)[1][\"action_probs\"]]*2 for state in trajs[\"ep_states\"][0]]\n",
    "StateVisualizer().display_rendered_trajectory(trajs, ipython_display= True)"
   ]
  },
  {
   "cell_type": "code",
   "execution_count": null,
   "id": "a1306a2e",
   "metadata": {},
   "outputs": [],
   "source": []
  }
 ],
 "metadata": {
  "kernelspec": {
   "display_name": "overcooked_ai",
   "language": "python",
   "name": "overcooked_ai"
  },
  "language_info": {
   "codemirror_mode": {
    "name": "ipython",
    "version": 3
   },
   "file_extension": ".py",
   "mimetype": "text/x-python",
   "name": "python",
   "nbconvert_exporter": "python",
   "pygments_lexer": "ipython3",
   "version": "3.7.16"
  }
 },
 "nbformat": 4,
 "nbformat_minor": 5
}
